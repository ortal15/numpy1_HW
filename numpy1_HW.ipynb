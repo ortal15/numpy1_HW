{
 "cells": [
  {
   "cell_type": "code",
   "execution_count": 2,
   "id": "cffcdd3e-3fbc-48c5-ba87-dfa1634f9952",
   "metadata": {},
   "outputs": [
    {
     "data": {
      "text/plain": [
       "array([ 1,  2,  3,  4,  5,  6,  7,  8,  9, 10])"
      ]
     },
     "execution_count": 2,
     "metadata": {},
     "output_type": "execute_result"
    }
   ],
   "source": [
    "import sys\n",
    "import numpy as np\n",
    "#.1 השתמש בפקודת arange, צור והדפס מערך עם המספרים:\n",
    "#a. מ- 1-10\n",
    "np.arange(1 , 10 + 1)"
   ]
  },
  {
   "cell_type": "code",
   "execution_count": 6,
   "id": "a11f5b06-4df1-4048-8204-a4944891abff",
   "metadata": {},
   "outputs": [
    {
     "data": {
      "text/plain": [
       "array([0.5 , 0.75, 1.  , 1.25, 1.5 , 1.75, 2.  , 2.25, 2.5 , 2.75, 3.  ,\n",
       "       3.25, 3.5 , 3.75, 4.  , 4.25, 4.5 , 4.75, 5.  ])"
      ]
     },
     "execution_count": 6,
     "metadata": {},
     "output_type": "execute_result"
    }
   ],
   "source": [
    "#b. מ- 0.5 ועד 5 בדילוגים של 0.25\n",
    "np.arange(0.5 , 5 + 0.25 , 0.25)"
   ]
  },
  {
   "cell_type": "code",
   "execution_count": 8,
   "id": "80d856a6-cb78-4ec7-a958-b5e479843995",
   "metadata": {},
   "outputs": [
    {
     "name": "stdout",
     "output_type": "stream",
     "text": [
      "[0 0 0 0 0 0 0 0 0 0]\n"
     ]
    }
   ],
   "source": [
    "#.2 השתמש בפקודת zeros, צור והדפס מערך של אפסים בגודל הבא:\n",
    "#a. מערך של 10 איברים בשורה 1\n",
    "print(np.zeros(10, dtype=int))\n"
   ]
  },
  {
   "cell_type": "code",
   "execution_count": 14,
   "id": "69db85d2-9e46-41cb-baf7-8e71387c5aa4",
   "metadata": {},
   "outputs": [
    {
     "data": {
      "text/plain": [
       "array([[ 0,  1,  2,  3],\n",
       "       [ 4,  5,  6,  7],\n",
       "       [ 8,  9, 10, 11]])"
      ]
     },
     "execution_count": 14,
     "metadata": {},
     "output_type": "execute_result"
    }
   ],
   "source": [
    "#b. מערך של 12 איברים בגדול 4 X 3\n",
    "sh = np.arange(0, 12)\n",
    "np.reshape(sh, (3, 4))"
   ]
  },
  {
   "cell_type": "code",
   "execution_count": 16,
   "id": "d2e09822-0b87-4695-9100-9ed592088158",
   "metadata": {},
   "outputs": [
    {
     "name": "stdout",
     "output_type": "stream",
     "text": [
      "[ 2  4  7  9 12]\n"
     ]
    }
   ],
   "source": [
    "#.3 השתמש בפקודת linspace, צור והדפס מערך של מספרים:\n",
    "#a. בגודל 5 איברים מ 2 ועד 12\n",
    "print(np.linspace(2, 12 , 5, dtype=int))"
   ]
  },
  {
   "cell_type": "code",
   "execution_count": 18,
   "id": "729222b7-72e1-4560-908b-6fc5b38f71c3",
   "metadata": {},
   "outputs": [
    {
     "name": "stdout",
     "output_type": "stream",
     "text": [
      "[3 5 7 9]\n"
     ]
    }
   ],
   "source": [
    "#b. בגודל 4 איברים מ 3 ועד 9\n",
    "print(np.linspace(3,9,4,dtype=int))"
   ]
  },
  {
   "cell_type": "code",
   "execution_count": 28,
   "id": "65679ee6-bca0-41ea-90af-794192338dd5",
   "metadata": {},
   "outputs": [
    {
     "name": "stdout",
     "output_type": "stream",
     "text": [
      "[[0.96860507 0.47867484]\n",
      " [0.17615364 0.03311327]\n",
      " [0.40355861 0.44466985]\n",
      " [0.9062583  0.18618171]]\n"
     ]
    }
   ],
   "source": [
    "#.4 השתמש בפקודת random np, צור והדפס מערך של מספרים אקראיים:\n",
    "#a. בגודל 2 X 4 אשר כל מספר אקראי הוא בין 0 לבין 0.999\n",
    "randy_a = np.random.rand(4, 2) * 0.999\n",
    "print(randy_a)"
   ]
  },
  {
   "cell_type": "code",
   "execution_count": 26,
   "id": "c5e47e3f-903f-45be-b455-f43c5b1703e1",
   "metadata": {},
   "outputs": [
    {
     "name": "stdout",
     "output_type": "stream",
     "text": [
      "[[18 19 17]\n",
      " [18 19 12]\n",
      " [11 16 17]]\n"
     ]
    }
   ],
   "source": [
    "#b. בגודל 3 X 3 אשר כל מספר אקראי הוא שלם בין 10 לבין 20\n",
    "randy = np.random.rand(3, 3) *10+ 10\n",
    "print(randy.astype(int))"
   ]
  },
  {
   "cell_type": "code",
   "execution_count": 30,
   "id": "9fcea3b6-286d-460e-b4da-22d118e4095f",
   "metadata": {},
   "outputs": [
    {
     "data": {
      "text/plain": [
       "'משנה את הצורה של המידע אבל לא את הכמות שלו, ודורש תשומת לב לתצוגות מול עותקים.'"
      ]
     },
     "execution_count": 30,
     "metadata": {},
     "output_type": "execute_result"
    }
   ],
   "source": [
    "#באמצעות reshape שנה את גודל המערך שיצרת בסעיף a ל 8 X .1\n",
    "np.reshape( randy_a , (1, 8))\n",
    "#מה צריך לשים לב כאשר משתמשים בפעולת reshape ?\n",
    "'''משנה את הצורה של המידע אבל לא את הכמות שלו, ודורש תשומת לב לתצוגות מול עותקים.'''"
   ]
  },
  {
   "cell_type": "code",
   "execution_count": null,
   "id": "bbe2aa69-68e8-421f-9cf1-37b9612a844a",
   "metadata": {},
   "outputs": [],
   "source": [
    "#.5 מה יתקבל אם נגריל מספרים אקראים תוך שימוש ב- seed קבוע?\n",
    "\"\"\"יתקבלו אותם המספרים בכל פעם שנריץ את הקוד שונה מהמצב הרגיל בו המספרים ישתנו בצורה אקראית כל פעם.\"\"\"\n",
    "#מה היתרון של השימוש ב- seed?\n",
    "\"\"\"הוא מבטיח שהתוצאות האקראיות יהיו זהות בכל הרצה של הקוד,מה שעוזר לנו לבדוק ולשחזר קודים לבדיקה\"\"\""
   ]
  },
  {
   "cell_type": "code",
   "execution_count": null,
   "id": "63603aa6-7529-4d62-9205-999a49eed219",
   "metadata": {},
   "outputs": [],
   "source": []
  }
 ],
 "metadata": {
  "kernelspec": {
   "display_name": "Python 3 (ipykernel)",
   "language": "python",
   "name": "python3"
  },
  "language_info": {
   "codemirror_mode": {
    "name": "ipython",
    "version": 3
   },
   "file_extension": ".py",
   "mimetype": "text/x-python",
   "name": "python",
   "nbconvert_exporter": "python",
   "pygments_lexer": "ipython3",
   "version": "3.12.7"
  }
 },
 "nbformat": 4,
 "nbformat_minor": 5
}
